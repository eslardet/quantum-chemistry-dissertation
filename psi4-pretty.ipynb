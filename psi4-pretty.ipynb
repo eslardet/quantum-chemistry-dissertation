{
 "cells": [
  {
   "cell_type": "code",
   "execution_count": 1,
   "id": "4966a52e",
   "metadata": {
    "ExecuteTime": {
     "end_time": "2022-02-17T15:43:18.943532Z",
     "start_time": "2022-02-17T15:43:09.446077Z"
    }
   },
   "outputs": [],
   "source": [
    "import psi4\n",
    "import numpy as np\n",
    "import pandas as pd\n",
    "psi4.set_memory('500 MB')\n",
    "import os\n",
    "from urllib.request import urlopen\n",
    "import matplotlib.pyplot as plt\n",
    "from sympy import *\n",
    "from scipy import integrate"
   ]
  },
  {
   "cell_type": "markdown",
   "id": "cc072eca",
   "metadata": {},
   "source": [
    "# Ground State Energies"
   ]
  },
  {
   "cell_type": "code",
   "execution_count": 2,
   "id": "1c57e322",
   "metadata": {
    "ExecuteTime": {
     "end_time": "2022-02-17T15:45:21.396898Z",
     "start_time": "2022-02-17T15:45:14.865853Z"
    }
   },
   "outputs": [],
   "source": [
    "element_list = [\"H\", \"He\", \"Li\", \"Be\", \"B\", \"C\", \"N\", \"O\", \"F\", \"Ne\"]\n",
    "HF_STO3G_energy = np.zeros(10)\n",
    "HF_CC_energy = np.zeros(10)\n",
    "\n",
    "psi4.set_options({'reference': 'rohf'})\n",
    "\n",
    "for i, element in enumerate(element_list):\n",
    "    psi4.geometry(element)\n",
    "    HF_STO3G_energy[i] = psi4.energy('scf/sto-3g')\n",
    "    HF_CC_energy[i] = psi4.energy('scf/cc-pvdz')"
   ]
  },
  {
   "cell_type": "code",
   "execution_count": 3,
   "id": "807e8529",
   "metadata": {
    "ExecuteTime": {
     "end_time": "2022-02-17T15:45:28.870374Z",
     "start_time": "2022-02-17T15:45:28.859367Z"
    }
   },
   "outputs": [],
   "source": [
    "PT_dict = {\"H\":-0.5, \"He\":-2.75, \"Li\":-7.0566, \"Be\":-13.7629, \"B\":-22.7374,\n",
    "           \"C\":-34.4468, \"N\":-49.1503, \"O\":-66.7048, \"F\":-87.6660, \"Ne\":-112.2917}\n",
    "\n",
    "PT_energy = np.fromiter(PT_dict.values(), dtype=float)"
   ]
  },
  {
   "cell_type": "code",
   "execution_count": 4,
   "id": "4069d800",
   "metadata": {
    "ExecuteTime": {
     "end_time": "2022-02-17T15:45:35.215260Z",
     "start_time": "2022-02-17T15:45:35.201627Z"
    }
   },
   "outputs": [],
   "source": [
    "experiment_dict = {\"H\":-0.9994665083781, \"He\":-5.806771753, \"Li\":-14.95595772, \"Be\":-29.336884, \"B\":-49.31619,\n",
    "           \"C\":-75.71157, \"N\":-109.22323, \"O\":-150.21968, \"F\":-199.6142, \"Ne\":-258.1049}\n",
    "experiment_energy = np.fromiter(experiment_dict.values(), dtype=float) / 2 # in Rydbergs (1Ry = 0.5H)"
   ]
  },
  {
   "cell_type": "code",
   "execution_count": 5,
   "id": "8f18f727",
   "metadata": {
    "ExecuteTime": {
     "end_time": "2022-02-17T15:46:36.888825Z",
     "start_time": "2022-02-17T15:46:36.841951Z"
    }
   },
   "outputs": [
    {
     "data": {
      "text/html": [
       "<div>\n",
       "<style scoped>\n",
       "    .dataframe tbody tr th:only-of-type {\n",
       "        vertical-align: middle;\n",
       "    }\n",
       "\n",
       "    .dataframe tbody tr th {\n",
       "        vertical-align: top;\n",
       "    }\n",
       "\n",
       "    .dataframe thead th {\n",
       "        text-align: right;\n",
       "    }\n",
       "</style>\n",
       "<table border=\"1\" class=\"dataframe\">\n",
       "  <thead>\n",
       "    <tr style=\"text-align: right;\">\n",
       "      <th></th>\n",
       "      <th>Experiment</th>\n",
       "      <th>HF (STO-3G)</th>\n",
       "      <th>PT</th>\n",
       "      <th>% Error (HF)</th>\n",
       "      <th>% Error (PT)</th>\n",
       "    </tr>\n",
       "  </thead>\n",
       "  <tbody>\n",
       "    <tr>\n",
       "      <th>H</th>\n",
       "      <td>-0.499733</td>\n",
       "      <td>-0.466582</td>\n",
       "      <td>-0.5000</td>\n",
       "      <td>6.633820</td>\n",
       "      <td>-0.053378</td>\n",
       "    </tr>\n",
       "    <tr>\n",
       "      <th>He</th>\n",
       "      <td>-2.903386</td>\n",
       "      <td>-2.807913</td>\n",
       "      <td>-2.7500</td>\n",
       "      <td>3.288317</td>\n",
       "      <td>5.283000</td>\n",
       "    </tr>\n",
       "    <tr>\n",
       "      <th>Li</th>\n",
       "      <td>-7.477979</td>\n",
       "      <td>-7.315604</td>\n",
       "      <td>-7.0566</td>\n",
       "      <td>2.171375</td>\n",
       "      <td>5.634930</td>\n",
       "    </tr>\n",
       "    <tr>\n",
       "      <th>Be</th>\n",
       "      <td>-14.668442</td>\n",
       "      <td>-14.352011</td>\n",
       "      <td>-13.7629</td>\n",
       "      <td>2.157224</td>\n",
       "      <td>6.173403</td>\n",
       "    </tr>\n",
       "    <tr>\n",
       "      <th>B</th>\n",
       "      <td>-24.658095</td>\n",
       "      <td>-24.149117</td>\n",
       "      <td>-22.7374</td>\n",
       "      <td>2.064143</td>\n",
       "      <td>7.789308</td>\n",
       "    </tr>\n",
       "    <tr>\n",
       "      <th>C</th>\n",
       "      <td>-37.855785</td>\n",
       "      <td>-37.089740</td>\n",
       "      <td>-34.4468</td>\n",
       "      <td>2.023588</td>\n",
       "      <td>9.005189</td>\n",
       "    </tr>\n",
       "    <tr>\n",
       "      <th>N</th>\n",
       "      <td>-54.611615</td>\n",
       "      <td>-53.554678</td>\n",
       "      <td>-49.1503</td>\n",
       "      <td>1.935371</td>\n",
       "      <td>10.000281</td>\n",
       "    </tr>\n",
       "    <tr>\n",
       "      <th>O</th>\n",
       "      <td>-75.109840</td>\n",
       "      <td>-73.661918</td>\n",
       "      <td>-66.7048</td>\n",
       "      <td>1.927740</td>\n",
       "      <td>11.190331</td>\n",
       "    </tr>\n",
       "    <tr>\n",
       "      <th>F</th>\n",
       "      <td>-99.807100</td>\n",
       "      <td>-97.986588</td>\n",
       "      <td>-87.6660</td>\n",
       "      <td>1.824031</td>\n",
       "      <td>12.164565</td>\n",
       "    </tr>\n",
       "    <tr>\n",
       "      <th>Ne</th>\n",
       "      <td>-129.052450</td>\n",
       "      <td>-126.604573</td>\n",
       "      <td>-112.2917</td>\n",
       "      <td>1.896808</td>\n",
       "      <td>12.987549</td>\n",
       "    </tr>\n",
       "  </tbody>\n",
       "</table>\n",
       "</div>"
      ],
      "text/plain": [
       "    Experiment  HF (STO-3G)        PT  % Error (HF)  % Error (PT)\n",
       "H    -0.499733    -0.466582   -0.5000      6.633820     -0.053378\n",
       "He   -2.903386    -2.807913   -2.7500      3.288317      5.283000\n",
       "Li   -7.477979    -7.315604   -7.0566      2.171375      5.634930\n",
       "Be  -14.668442   -14.352011  -13.7629      2.157224      6.173403\n",
       "B   -24.658095   -24.149117  -22.7374      2.064143      7.789308\n",
       "C   -37.855785   -37.089740  -34.4468      2.023588      9.005189\n",
       "N   -54.611615   -53.554678  -49.1503      1.935371     10.000281\n",
       "O   -75.109840   -73.661918  -66.7048      1.927740     11.190331\n",
       "F   -99.807100   -97.986588  -87.6660      1.824031     12.164565\n",
       "Ne -129.052450  -126.604573 -112.2917      1.896808     12.987549"
      ]
     },
     "metadata": {},
     "output_type": "display_data"
    }
   ],
   "source": [
    "HF_error = (experiment_energy - HF_STO3G_energy) / experiment_energy * 100\n",
    "PT_error = (experiment_energy - PT_energy) / experiment_energy * 100\n",
    "energy_error_df =  pd.DataFrame(data=np.round(np.stack((experiment_energy, HF_STO3G_energy, PT_energy, HF_error, PT_error),\n",
    "                                                       axis=1),6), index=element_list, \n",
    "                            columns=[\"Experiment\", \"HF (STO-3G)\",  \"PT\", \"% Error (HF)\", \"% Error (PT)\"])\n",
    "display(energy_error_df)"
   ]
  }
 ],
 "metadata": {
  "kernelspec": {
   "display_name": "Python 3 (ipykernel)",
   "language": "python",
   "name": "python3"
  },
  "language_info": {
   "codemirror_mode": {
    "name": "ipython",
    "version": 3
   },
   "file_extension": ".py",
   "mimetype": "text/x-python",
   "name": "python",
   "nbconvert_exporter": "python",
   "pygments_lexer": "ipython3",
   "version": "3.8.12"
  },
  "varInspector": {
   "cols": {
    "lenName": 16,
    "lenType": 16,
    "lenVar": 40
   },
   "kernels_config": {
    "python": {
     "delete_cmd_postfix": "",
     "delete_cmd_prefix": "del ",
     "library": "var_list.py",
     "varRefreshCmd": "print(var_dic_list())"
    },
    "r": {
     "delete_cmd_postfix": ") ",
     "delete_cmd_prefix": "rm(",
     "library": "var_list.r",
     "varRefreshCmd": "cat(var_dic_list()) "
    }
   },
   "types_to_exclude": [
    "module",
    "function",
    "builtin_function_or_method",
    "instance",
    "_Feature"
   ],
   "window_display": false
  }
 },
 "nbformat": 4,
 "nbformat_minor": 5
}
